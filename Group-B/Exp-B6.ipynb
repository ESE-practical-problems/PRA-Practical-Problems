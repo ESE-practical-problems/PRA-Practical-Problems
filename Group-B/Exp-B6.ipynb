{
 "cells": [
  {
   "cell_type": "markdown",
   "id": "285d63fd",
   "metadata": {},
   "source": [
    "#### B6. Use non-parametric K-Nearest Neighbor (KNN) techniques to classify grayscale images of shapes (e.g., circles, squares, and triangles). Evaluate and compare the classification accuracy of both methods. "
   ]
  },
  {
   "cell_type": "code",
   "execution_count": 32,
   "id": "e8104388",
   "metadata": {},
   "outputs": [],
   "source": [
    "import numpy as np\n",
    "import matplotlib.pyplot as plt\n",
    "import cv2\n",
    "from sklearn.model_selection import train_test_split\n",
    "from sklearn.metrics import accuracy_score\n",
    "from sklearn.neighbors import KNeighborsClassifier, KernelDensity"
   ]
  },
  {
   "cell_type": "code",
   "execution_count": 25,
   "id": "2594e97a",
   "metadata": {},
   "outputs": [],
   "source": [
    "def generate_shape(shape, size=64):\n",
    "    img = np.zeros((size, size), dtype=np.uint8)\n",
    "    center = (size // 2, size // 2)\n",
    "    if shape == \"circle\":\n",
    "        cv2.circle(img, center, size // 3, 255, -1)\n",
    "    elif shape == \"square\":\n",
    "        cv2.rectangle(img, (size//4, size//4), (3*size//4, 3*size//4), 255, -1)\n",
    "    elif shape == \"triangle\":\n",
    "        pts = np.array([[size//2, size//5], [size//5, 4*size//5], [4*size//5, 4*size//5]], np.int32)\n",
    "        cv2.fillPoly(img, [pts], 255)\n",
    "    return img"
   ]
  },
  {
   "cell_type": "code",
   "execution_count": 26,
   "id": "79f272a8",
   "metadata": {},
   "outputs": [
    {
     "name": "stdout",
     "output_type": "stream",
     "text": [
      "Generating dataset...\n"
     ]
    }
   ],
   "source": [
    "def create_dataset(num_samples=100):\n",
    "    shapes = [\"circle\", \"square\", \"triangle\"]\n",
    "    X, y = [], []\n",
    "    for i, shape in enumerate(shapes):\n",
    "        for _ in range(num_samples):\n",
    "            img = generate_shape(shape)\n",
    "            X.append(img.flatten())\n",
    "            y.append(i)\n",
    "    return np.array(X), np.array(y), shapes\n",
    "\n",
    "print(\"Generating dataset...\")\n",
    "X, y, shapes = create_dataset(300)"
   ]
  },
  {
   "cell_type": "code",
   "execution_count": 27,
   "id": "899d0059",
   "metadata": {},
   "outputs": [],
   "source": [
    "X_train, X_test, y_train, y_test = train_test_split(X, y, test_size=0.2, random_state=42)"
   ]
  },
  {
   "cell_type": "code",
   "execution_count": 28,
   "id": "86320124",
   "metadata": {},
   "outputs": [
    {
     "name": "stdout",
     "output_type": "stream",
     "text": [
      "K-NN Accuracy: 1.00\n"
     ]
    }
   ],
   "source": [
    "knn = KNeighborsClassifier(n_neighbors=5)\n",
    "knn.fit(X_train, y_train)\n",
    "y_pred = knn.predict(X_test)\n",
    "knn_acc = accuracy_score(y_test, y_pred)\n",
    "print(f\"K-NN Accuracy: {knn_acc:.2f}\")"
   ]
  },
  {
   "cell_type": "code",
   "execution_count": 31,
   "id": "494d2359",
   "metadata": {},
   "outputs": [
    {
     "data": {
      "image/png": "[encoded data removed]",
      "text/plain": [
       "<Figure size 1000x200 with 5 Axes>"
      ]
     },
     "metadata": {},
     "output_type": "display_data"
    }
   ],
   "source": [
    "plt.figure(figsize=(10, 2))  # Set figure size once before the loop\n",
    "\n",
    "for i in range(5):\n",
    "    plt.subplot(1, 5, i + 1)  # (rows=1, cols=5, position=i+1)\n",
    "    plt.imshow(X_test[i].reshape(64, 64), cmap='gray')\n",
    "    plt.title(\"Predicted: \" + shapes[y_pred[i]])\n",
    "    plt.axis('off')\n",
    "\n",
    "plt.show()"
   ]
  },
  {
   "cell_type": "code",
   "execution_count": 33,
   "id": "4079baa5",
   "metadata": {},
   "outputs": [],
   "source": [
    "# OPTIONAL\n",
    "parzen_kde = []\n",
    "bandwidth = 0.1\n",
    "for i in range(3):\n",
    "    kde = KernelDensity(kernel='gaussian', bandwidth=bandwidth)\n",
    "    kde.fit(X_train[y_train == i])\n",
    "    parzen_kde.append(kde)"
   ]
  },
  {
   "cell_type": "code",
   "execution_count": 34,
   "id": "d6c3a773",
   "metadata": {},
   "outputs": [
    {
     "name": "stdout",
     "output_type": "stream",
     "text": [
      "Parzen-Window Accuracy: 1.00\n"
     ]
    }
   ],
   "source": [
    "def parzen_predict(X):\n",
    "    scores = np.array([kde.score_samples(X) for kde in parzen_kde]).T\n",
    "    return np.argmax(scores, axis=1)\n",
    "\n",
    "y_pred_parzen = parzen_predict(X_test)\n",
    "parzen_acc = accuracy_score(y_test, y_pred_parzen)\n",
    "print(f\"Parzen-Window Accuracy: {parzen_acc:.2f}\")"
   ]
  },
  {
   "cell_type": "code",
   "execution_count": 35,
   "id": "d5069d0b",
   "metadata": {},
   "outputs": [
    {
     "data": {
      "image/png": "[encoded data removed]",
      "text/plain": [
       "<Figure size 1000x200 with 5 Axes>"
      ]
     },
     "metadata": {},
     "output_type": "display_data"
    }
   ],
   "source": [
    "plt.figure(figsize=(10, 2))  # Set figure size once before the loop\n",
    "\n",
    "for i in range(5):\n",
    "    plt.subplot(1, 5, i + 1)  # (rows=1, cols=5, position=i+1)\n",
    "    plt.imshow(X_test[i].reshape(64, 64), cmap='gray')\n",
    "    plt.title(\"Predicted: \" + shapes[y_pred_parzen[i]])\n",
    "    plt.axis('off')\n",
    "\n",
    "plt.show()"
   ]
  },
  {
   "cell_type": "code",
   "execution_count": null,
   "id": "83742f75",
   "metadata": {},
   "outputs": [],
   "source": []
  }
 ],
 "metadata": {
  "kernelspec": {
   "display_name": "Python 3",
   "language": "python",
   "name": "python3"
  },
  "language_info": {
   "codemirror_mode": {
    "name": "ipython",
    "version": 3
   },
   "file_extension": ".py",
   "mimetype": "text/x-python",
   "name": "python",
   "nbconvert_exporter": "python",
   "pygments_lexer": "ipython3",
   "version": "3.10.0"
  }
 },
 "nbformat": 4,
 "nbformat_minor": 5
}
